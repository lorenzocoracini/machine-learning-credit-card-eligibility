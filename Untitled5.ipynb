{
  "nbformat": 4,
  "nbformat_minor": 0,
  "metadata": {
    "colab": {
      "provenance": [],
      "authorship_tag": "ABX9TyOwZfRv29FHOG7ZyuWdA1uA",
      "include_colab_link": true
    },
    "kernelspec": {
      "name": "python3",
      "display_name": "Python 3"
    },
    "language_info": {
      "name": "python"
    }
  },
  "cells": [
    {
      "cell_type": "markdown",
      "metadata": {
        "id": "view-in-github",
        "colab_type": "text"
      },
      "source": [
        "<a href=\"https://colab.research.google.com/github/lorenzocoracini/machine-learning-credit-card-eligibility/blob/main/Untitled5.ipynb\" target=\"_parent\"><img src=\"https://colab.research.google.com/assets/colab-badge.svg\" alt=\"Open In Colab\"/></a>"
      ]
    },
    {
      "cell_type": "code",
      "execution_count": null,
      "metadata": {
        "id": "eXIDB1UqGOzo"
      },
      "outputs": [],
      "source": [
        "class NaiveBayesModel:\n",
        "  pass\n"
      ]
    },
    {
      "cell_type": "code",
      "source": [
        "class MlpModel:\n",
        "  pass\n"
      ],
      "metadata": {
        "id": "orch4KubGZxB"
      },
      "execution_count": null,
      "outputs": []
    }
  ]
}